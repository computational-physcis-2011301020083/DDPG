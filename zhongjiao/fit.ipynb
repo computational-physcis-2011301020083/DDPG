{
 "cells": [
  {
   "cell_type": "code",
   "execution_count": 1,
   "metadata": {},
   "outputs": [
    {
     "name": "stdout",
     "output_type": "stream",
     "text": [
      "Welcome to JupyROOT 6.18/00\n"
     ]
    }
   ],
   "source": [
    "import ROOT\n",
    "import numpy as np\n",
    "import matplotlib.pyplot as plt\n",
    "from scipy.optimize import curve_fit"
   ]
  },
  {
   "cell_type": "code",
   "execution_count": 59,
   "metadata": {},
   "outputs": [
    {
     "name": "stdout",
     "output_type": "stream",
     "text": [
      "3.141592653589793\n"
     ]
    }
   ],
   "source": [
    "print(ROOT.TMath.Pi())\n",
    "pi=ROOT.TMath.Pi()\n",
    "R=14600.0"
   ]
  },
  {
   "cell_type": "code",
   "execution_count": null,
   "metadata": {},
   "outputs": [],
   "source": [
    "112,96,119,142,140,145,125,130,124,121,117,108,105,110\n",
    "12.857,51.428,77.142,107.396,136.367,149.109,162.082,174.939,187.796,200.653,261.671,282.854,308.568,347.139\n",
    "109,97,108,146,138,140,127,132,126,118,113,110,100,112"
   ]
  },
  {
   "cell_type": "code",
   "execution_count": 58,
   "metadata": {},
   "outputs": [
    {
     "name": "stdout",
     "output_type": "stream",
     "text": [
      "(3, 14)\n",
      "[[   0.            1.            2.            3.            4.            5.\n",
      "     6.            7.            8.            9.           10.           11.\n",
      "    12.           13.        ]\n",
      " [ 109.           97.          108.          146.          138.          140.\n",
      "   127.          132.          126.          118.          113.          110.\n",
      "   100.          112.        ]\n",
      " [   1.34639934    0.6732084     0.22441444   -0.30361748   -0.80925681\n",
      "    -1.03164667   -1.25806823   -1.48246521   -1.7068622    -1.93125918\n",
      "    -2.99622418   -3.36593728   -3.81473124   -4.48792219]]\n"
     ]
    }
   ],
   "source": [
    "num=np.array([0,1,2,3,4,5,6,7,8,9,10,11,12,13])\n",
    "#deltaD=np.array([112,96,119,142,140,145,125,130,124,121,117,108,105,110]) #560\n",
    "deltaD=np.array([109,97,108,146,138,140,127,132,126,118,113,110,100,112]) #561\n",
    "deltaD=deltaD*1.0\n",
    "theta=np.array([12.857,51.428,77.142,107.396,136.367,149.109,162.082,174.939,187.796,200.653,261.671,282.854,308.568,347.139])\n",
    "theta=theta*pi/180.0\n",
    "#deltaD=np.array([111.0,96.0,110.0,142.0,115.0,108.0,107.0,108.0])\n",
    "#theta=np.array([pi*12.857/180.0,pi*51.428/180.0,pi*77.142/180.0,pi*107.396/180.0,pi*261.671/180.0,pi*282.854/180.0,pi*308.568/180.0,pi*347.139/180.0])\n",
    "theta=pi/2.0-theta\n",
    "data=np.vstack((num,deltaD,theta))\n",
    "print(data.shape)\n",
    "print(data)"
   ]
  },
  {
   "cell_type": "code",
   "execution_count": 60,
   "metadata": {},
   "outputs": [
    {
     "name": "stdout",
     "output_type": "stream",
     "text": [
      "(3, 14)\n",
      "[[  0.00000000e+00   1.00000000e+00   2.00000000e+00   3.00000000e+00\n",
      "    4.00000000e+00   5.00000000e+00   6.00000000e+00   7.00000000e+00\n",
      "    8.00000000e+00   9.00000000e+00   1.00000000e+01   1.10000000e+01\n",
      "    1.20000000e+01   1.30000000e+01]\n",
      " [  3.22451563e+03   1.13388118e+04   1.41286071e+04   1.37928914e+04\n",
      "    9.97930819e+03   7.42385743e+03   4.45269885e+03   1.27631332e+03\n",
      "   -1.96334606e+03  -5.10790822e+03  -1.43341998e+04  -1.41268823e+04\n",
      "   -1.13370975e+04  -3.22483416e+03]\n",
      " [  1.41276884e+04   9.04258568e+03   3.22498474e+03  -4.32137270e+03\n",
      "   -1.04672275e+04  -1.24087848e+04  -1.37710276e+04  -1.44115942e+04\n",
      "   -1.43402213e+04  -1.35512951e+04  -2.09854374e+03   3.22355343e+03\n",
      "    9.03992373e+03   1.41245385e+04]]\n"
     ]
    }
   ],
   "source": [
    "x=(R-data[1,:])*np.cos(data[2:])\n",
    "y=(R-data[1,:])*np.sin(data[2:])\n",
    "data_xy=np.vstack((num,x,y))\n",
    "print(data_xy.shape)\n",
    "print(data_xy)"
   ]
  },
  {
   "cell_type": "code",
   "execution_count": 63,
   "metadata": {},
   "outputs": [
    {
     "name": "stdout",
     "output_type": "stream",
     "text": [
      "[14127.688415244222, 9042.5856822922342, 3224.9847387231225, -4321.3726963258368, -10467.227527661913, -12408.784826644363, -13771.027630345077, -14411.594231828827, -14340.221345342497, -13551.295054704329, -2098.5437428663217, 3223.5534331057993, 9039.923732811345, 14124.538528368357]\n"
     ]
    }
   ],
   "source": [
    "x_list=[]\n",
    "for i in range(14):\n",
    "    x_list.append(data_xy[2,i])\n",
    "print(x_list)"
   ]
  },
  {
   "cell_type": "code",
   "execution_count": 64,
   "metadata": {},
   "outputs": [
    {
     "data": {
      "image/png": "[encoded data removed]",
      "text/plain": [
       "<Figure size 432x288 with 1 Axes>"
      ]
     },
     "metadata": {
      "needs_background": "light"
     },
     "output_type": "display_data"
    }
   ],
   "source": [
    "plt.figure(1)\n",
    "plt.plot(data_xy[1,:],data_xy[2,:],label=\"data point\")\n",
    "plt.xlabel('X')\n",
    "plt.ylabel('Y')\n",
    "#plt.yscale(\"log\", nonposy=\"clip\")\n",
    "#plt.xlim(left=0.3)\n",
    "#plt.ylim(top=1e3*2)\n",
    "#plt.ylim(bottom=0)\n",
    "#plt.legend(loc='best')\n",
    "plt.legend(loc='upper right')\n",
    "ROC_file=\"figures/\"+\"RocRatio_Dijets.pdf\"\n",
    "ROC_file1=ROC_file.replace(\"pdf\",\"jpg\")\n",
    "#plt.savefig(ROC_file1)\n",
    "#plt.savefig(ROC_file)\n",
    "plt.show()"
   ]
  },
  {
   "cell_type": "code",
   "execution_count": 27,
   "metadata": {},
   "outputs": [
    {
     "name": "stdout",
     "output_type": "stream",
     "text": [
      "[[  3223.84807351  11339.59363155  14117.88288885  13796.70847553\n",
      "    9977.92811361   7421.29039669   4453.31415611]] [[ 14124.76362984   9043.20917989   3222.53684802  -4322.56859302\n",
      "  -10465.77997856 -12404.49409883 -13772.93062594]]\n"
     ]
    }
   ],
   "source": [
    "X = data_xy[1:2,0:7]\n",
    "Y = data_xy[2:3,0:7]\n",
    "print(X,Y)"
   ]
  },
  {
   "cell_type": "code",
   "execution_count": 56,
   "metadata": {},
   "outputs": [
    {
     "name": "stdout",
     "output_type": "stream",
     "text": [
      "14307.7758367 292.22416327\n"
     ]
    }
   ],
   "source": [
    "# Extract x coords and y coords of the ellipse as column vectors\n",
    "#X = data_xy[1:2,:]\n",
    "#Y = data_xy[2:3,:]\n",
    "#X = data_xy[1:2,3:10]\n",
    "#Y = data_xy[2:3,3:10]\n",
    "Num=0\n",
    "X = data_xy[1:2,0+Num:7-Num]\n",
    "Y = data_xy[2:3,0+Num:7-Num]\n",
    "#X = np.hstack((data_xy[1:2,3:6],data_xy[1:2,7:10]))\n",
    "#Y = np.hstack((data_xy[2:3,3:6],data_xy[2:3,7:10]))\n",
    "#print(X,Y)\n",
    "X=np.reshape(X,(X.shape[1],1))\n",
    "Y=np.reshape(Y,(Y.shape[1],1))\n",
    "#print(X,Y)\n",
    "# Formulate and solve the least squares problem ||Ax - b ||^2\n",
    "#A = np.hstack([X**2, X * Y, Y**2, X, Y])\n",
    "#A = np.hstack([X**3, X**2,  X, Y])\n",
    "#A = np.hstack([Y**3, Y**2,  Y, X])\n",
    "A = np.hstack([Y**4,Y**3, Y**2,  Y, X])\n",
    "b = np.ones_like(X)*R\n",
    "x = np.linalg.lstsq(A, b)[0].squeeze()\n",
    "\n",
    "# Print the equation of the ellipse in standard form\n",
    "#print('The ellipse is given by {0:.3}x^2 + {1:.3}xy+{2:.3}y^2+{3:.3}x+{4:.3}y = R2'.format(x[0], x[1],x[2],x[3],x[4]))\n",
    "#print('The ellipse is given by {0:.3}x^3 + {1:.3}x^2+{2:.3}x+{3:.3}y = R2'.format(x[0], x[1],x[2],x[3]))\n",
    "#print('The ellipse is given by {0:.3}y^3 + {1:.3}y^2+{2:.3}y+{3:.3}x = R'.format(x[0], x[1],x[2],x[3]))\n",
    "\n",
    "rs=R/x[4]\n",
    "\n",
    "print(rs,R-rs)\n",
    "\n"
   ]
  },
  {
   "cell_type": "code",
   "execution_count": 65,
   "metadata": {},
   "outputs": [
    {
     "data": {
      "text/plain": [
       "<matplotlib.collections.PathCollection at 0x2aaaf0ad5748>"
      ]
     },
     "execution_count": 65,
     "metadata": {},
     "output_type": "execute_result"
    },
    {
     "data": {
      "image/png": "[encoded data removed]",
      "text/plain": [
       "<Figure size 432x288 with 1 Axes>"
      ]
     },
     "metadata": {
      "needs_background": "light"
     },
     "output_type": "display_data"
    }
   ],
   "source": [
    "plt.scatter(X, Y, label='Data Points')"
   ]
  },
  {
   "cell_type": "code",
   "execution_count": 12,
   "metadata": {},
   "outputs": [
    {
     "name": "stdout",
     "output_type": "stream",
     "text": [
      "[1.0215436873466384, -91.715158879005628, -213160000.0] [ 14490.18764401 -14400.40669777]\n",
      "109.81235599 199.593302234\n"
     ]
    }
   ],
   "source": [
    "X_Eval=0.0\n",
    "coeff = [0,0,0]\n",
    "coeff[0]=x[2]\n",
    "coeff[1]=x[1]*X_Eval+x[4]\n",
    "coeff[2]=x[0]*X_Eval*X_Eval+x[3]*X_Eval-R*R*1.0\n",
    "rs=np.roots(coeff)\n",
    "print(\"Y axis\")\n",
    "print(coeff,rs)\n",
    "print(R-rs[0],R+rs[1])\n",
    "print(R+rs[0],R-rs[1])\n",
    "\n",
    "Y_Eval=0.0\n",
    "coeff = [0,0,0]\n",
    "coeff[0]=x[0]\n",
    "coeff[1]=x[1]*Y_Eval+x[3]\n",
    "coeff[2]=x[2]*Y_Eval*Y_Eval+x[4]*Y_Eval-R*R*1.0\n",
    "rs=np.roots(coeff)\n",
    "print(\"X axis\")\n",
    "print(coeff,rs)\n",
    "print(R-rs[1],R+rs[0])\n",
    "print(R+rs[1],R-rs[0])"
   ]
  },
  {
   "cell_type": "code",
   "execution_count": 13,
   "metadata": {},
   "outputs": [
    {
     "name": "stdout",
     "output_type": "stream",
     "text": [
      "[1.0160487186474074, 9.8862286697221151, -213160000.0] [-14489.10175798  14479.37168453]\n",
      "120.628315474 110.898242016\n"
     ]
    }
   ],
   "source": []
  },
  {
   "cell_type": "code",
   "execution_count": null,
   "metadata": {},
   "outputs": [],
   "source": [
    "a=1+2"
   ]
  },
  {
   "cell_type": "code",
   "execution_count": null,
   "metadata": {},
   "outputs": [],
   "source": [
    "x[0]x^2 + x[1]xy+x[2]y^2+x[3]x+x[4]y = R2\n",
    "x[2]*y2+(x[1]*x+x[4])"
   ]
  },
  {
   "cell_type": "code",
   "execution_count": 79,
   "metadata": {},
   "outputs": [],
   "source": [
    "def func(x, a, b, r):\n",
    "    #if x[1,:]>0:\n",
    "        #return b+np.sqrt(r*r-(x[0,:]-a)*(x[0,:]-a))\n",
    "        return b-np.sqrt(r*r-(x-a)*(x-a))"
   ]
  },
  {
   "cell_type": "code",
   "execution_count": 81,
   "metadata": {},
   "outputs": [
    {
     "name": "stdout",
     "output_type": "stream",
     "text": [
      "[  -105.80091299    183.78748174  14232.45822116]\n"
     ]
    },
    {
     "name": "stderr",
     "output_type": "stream",
     "text": [
      "/global/common/cori/software/python/3.6-anaconda-5.2/lib/python3.6/site-packages/IPython/kernel/__main__.py:4: RuntimeWarning: invalid value encountered in sqrt\n"
     ]
    },
    {
     "data": {
      "text/plain": [
       "[<matplotlib.lines.Line2D at 0x2aaaf11d9198>]"
      ]
     },
     "execution_count": 81,
     "metadata": {},
     "output_type": "execute_result"
    },
    {
     "data": {
      "image/png": "[encoded data removed]",
      "text/plain": [
       "<Figure size 432x288 with 1 Axes>"
      ]
     },
     "metadata": {
      "needs_background": "light"
     },
     "output_type": "display_data"
    }
   ],
   "source": [
    "x_fit=data_xy[1,2:6]\n",
    "y_fit=data_xy[2,2:6]\n",
    "#print(x_fit,y_fit)\n",
    "popt, pcov = curve_fit(func, x_fit, y_fit,bounds=([-200,-200,14000],[200,200,25000]))\n",
    "print(popt)\n",
    "plt.plot(x_fit, y_fit, 'b-', label='data')\n",
    "plt.plot(x_fit, func(x_fit, *popt), 'r-',label='fit: a=%5.3f, b=%5.3f, c=%5.3f' % tuple(popt))"
   ]
  },
  {
   "cell_type": "code",
   "execution_count": 68,
   "metadata": {},
   "outputs": [
    {
     "data": {
      "text/plain": [
       "551.72251617739312"
      ]
     },
     "execution_count": 68,
     "metadata": {},
     "output_type": "execute_result"
    }
   ],
   "source": [
    "func(0,*popt)+R"
   ]
  },
  {
   "cell_type": "code",
   "execution_count": null,
   "metadata": {},
   "outputs": [],
   "source": []
  }
 ],
 "metadata": {
  "kernelspec": {
   "display_name": "PyROOT - Python3",
   "language": "python",
   "name": "pyroot3"
  },
  "language_info": {
   "codemirror_mode": {
    "name": "ipython",
    "version": 3
   },
   "file_extension": ".py",
   "mimetype": "text/x-python",
   "name": "python",
   "nbconvert_exporter": "python",
   "pygments_lexer": "ipython3",
   "version": "3.6.8"
  }
 },
 "nbformat": 4,
 "nbformat_minor": 4
}
