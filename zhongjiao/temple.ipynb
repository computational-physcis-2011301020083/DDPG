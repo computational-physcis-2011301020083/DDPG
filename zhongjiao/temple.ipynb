{
 "cells": [
  {
   "cell_type": "code",
   "execution_count": 2,
   "metadata": {},
   "outputs": [],
   "source": [
    "import numpy as np\n",
    "from scipy import optimize\n",
    "from matplotlib import pyplot as plt, cm, colors\n",
    "\n",
    "def calc_R(x,y, xc, yc):\n",
    "    \"\"\" calculate the distance of each 2D points from the center (xc, yc) \"\"\"\n",
    "    return np.sqrt((x-xc)**2 + (y-yc)**2)\n",
    "\n",
    "def f(c, x, y):\n",
    "    \"\"\" calculate the algebraic distance between the data points and the mean circle centered at c=(xc, yc) \"\"\"\n",
    "    Ri = calc_R(x, y, *c)\n",
    "    return Ri - Ri.mean()\n",
    "\n",
    "def leastsq_circle(x,y):\n",
    "    # coordinates of the barycenter\n",
    "    x_m = np.mean(x)\n",
    "    y_m = np.mean(y)\n",
    "    center_estimate = x_m, y_m\n",
    "    center, ier = optimize.leastsq(f, center_estimate, args=(x,y))\n",
    "    xc, yc = center\n",
    "    Ri       = calc_R(x, y, *center)\n",
    "    R        = Ri.mean()\n",
    "    residu   = np.sum((Ri - R)**2)\n",
    "    return xc, yc, R, residu\n",
    "def plot_data_circle(x,y, xc, yc, R):\n",
    "    f = plt.figure( facecolor='white')  #figsize=(7, 5.4), dpi=72,\n",
    "    plt.axis('equal')\n",
    "\n",
    "    theta_fit = np.linspace(-pi, pi, 180)\n",
    "\n",
    "    x_fit = xc + R*np.cos(theta_fit)\n",
    "    y_fit = yc + R*np.sin(theta_fit)\n",
    "    plt.plot(x_fit, y_fit, 'b-' , label=\"fitted circle\", lw=2)\n",
    "    plt.plot([xc], [yc], 'bD', mec='y', mew=1)\n",
    "    plt.xlabel('x')\n",
    "    plt.ylabel('y')   \n",
    "    # plot data\n",
    "    plt.plot(x, y, 'r-.', label='data', mew=1)\n",
    "    plt.legend(loc='best',labelspacing=0.1 )\n",
    "    plt.grid()\n",
    "    plt.title('Least Squares Circle')\n",
    "    plt.show()"
   ]
  },
  {
   "cell_type": "code",
   "execution_count": 8,
   "metadata": {},
   "outputs": [
    {
     "name": "stdout",
     "output_type": "stream",
     "text": [
      "(500, 2)\n",
      "[[-3.18153553 -1.22451982]\n",
      " [ 1.35543929  2.16633839]\n",
      " [-0.81830841 -2.35330533]\n",
      " [-3.12080993 -1.1443698 ]\n",
      " [-2.90902372 -0.51038736]\n",
      " [-3.68243761  0.69401867]\n",
      " [-2.21258344  2.58579365]\n",
      " [ 0.43777019 -2.96823373]\n",
      " [-3.23797361  1.52065022]\n",
      " [-3.24521784  1.72686169]]\n",
      "(500, 1)\n",
      "(500, 1)\n",
      "[[ 1.]\n",
      " [ 1.]\n",
      " [ 1.]\n",
      " [ 1.]\n",
      " [ 1.]\n",
      " [ 1.]\n",
      " [ 1.]\n",
      " [ 1.]\n",
      " [ 1.]\n",
      " [ 1.]]\n",
      "The ellipse is given by 0.0776x^2 + 0.0315xy+0.125y^2+0.00457x+0.00314y = 1\n"
     ]
    },
    {
     "data": {
      "text/plain": [
       "<matplotlib.contour.QuadContourSet at 0x2aab35efa8d0>"
      ]
     },
     "execution_count": 8,
     "metadata": {},
     "output_type": "execute_result"
    },
    {
     "data": {
      "image/png": "[encoded data removed]",
      "text/plain": [
       "<Figure size 432x288 with 1 Axes>"
      ]
     },
     "metadata": {
      "needs_background": "light"
     },
     "output_type": "display_data"
    }
   ],
   "source": [
    "import numpy as np\n",
    "import matplotlib.pyplot as plt\n",
    "alpha = 5\n",
    "beta = 3\n",
    "N = 500\n",
    "DIM = 2\n",
    "\n",
    "np.random.seed(2)\n",
    "\n",
    "# Generate random points on the unit circle by sampling uniform angles\n",
    "theta = np.random.uniform(0, 2*np.pi, (N,1))\n",
    "eps_noise = 0.2 * np.random.normal(size=[N,1])\n",
    "circle = np.hstack([np.cos(theta), np.sin(theta)])\n",
    "\n",
    "# Stretch and rotate circle to an ellipse with random linear tranformation\n",
    "B = np.random.randint(-3, 3, (DIM, DIM))\n",
    "noisy_ellipse = circle.dot(B) + eps_noise\n",
    "print(noisy_ellipse.shape)\n",
    "print(noisy_ellipse[0:10,:])\n",
    "\n",
    "# Extract x coords and y coords of the ellipse as column vectors\n",
    "X = noisy_ellipse[:,0:1]\n",
    "Y = noisy_ellipse[:,1:]\n",
    "print(X.shape)\n",
    "\n",
    "# Formulate and solve the least squares problem ||Ax - b ||^2\n",
    "A = np.hstack([X**2, X * Y, Y**2, X, Y])\n",
    "b = np.ones_like(X)\n",
    "print(b.shape)\n",
    "print(b[0:10,:])\n",
    "x = np.linalg.lstsq(A, b)[0].squeeze()\n",
    "\n",
    "# Print the equation of the ellipse in standard form\n",
    "print('The ellipse is given by {0:.3}x^2 + {1:.3}xy+{2:.3}y^2+{3:.3}x+{4:.3}y = 1'.format(x[0], x[1],x[2],x[3],x[4]))\n",
    "\n",
    "# Plot the noisy data\n",
    "plt.scatter(X, Y, label='Data Points')\n",
    "\n",
    "# Plot the original ellipse from which the data was generated\n",
    "phi = np.linspace(0, 2*np.pi, 1000).reshape((1000,1))\n",
    "c = np.hstack([np.cos(phi), np.sin(phi)])\n",
    "ground_truth_ellipse = c.dot(B)\n",
    "plt.plot(ground_truth_ellipse[:,0], ground_truth_ellipse[:,1], 'k--', label='Generating Ellipse')\n",
    "\n",
    "# Plot the least squares ellipse\n",
    "x_coord = np.linspace(-5,5,300)\n",
    "y_coord = np.linspace(-5,5,300)\n",
    "X_coord, Y_coord = np.meshgrid(x_coord, y_coord)\n",
    "Z_coord = x[0] * X_coord ** 2 + x[1] * X_coord * Y_coord + x[2] * Y_coord**2 + x[3] * X_coord + x[4] * Y_coord\n",
    "plt.contour(X_coord, Y_coord, Z_coord, levels=[1], colors=('r'), linewidths=2)"
   ]
  },
  {
   "cell_type": "code",
   "execution_count": null,
   "metadata": {},
   "outputs": [],
   "source": []
  }
 ],
 "metadata": {
  "kernelspec": {
   "display_name": "PyROOT - Python3",
   "language": "python",
   "name": "pyroot3"
  },
  "language_info": {
   "codemirror_mode": {
    "name": "ipython",
    "version": 3
   },
   "file_extension": ".py",
   "mimetype": "text/x-python",
   "name": "python",
   "nbconvert_exporter": "python",
   "pygments_lexer": "ipython3",
   "version": "3.6.8"
  }
 },
 "nbformat": 4,
 "nbformat_minor": 4
}
